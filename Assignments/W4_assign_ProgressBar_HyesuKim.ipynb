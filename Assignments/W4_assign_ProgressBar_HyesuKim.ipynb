{
 "cells": [
  {
   "cell_type": "code",
   "execution_count": 1,
   "metadata": {},
   "outputs": [
    {
     "name": "stderr",
     "output_type": "stream",
     "text": [
      "Exception in Tkinter callback\n",
      "Traceback (most recent call last):\n",
      "  File \"C:\\Users\\kimhy\\AppData\\Local\\Programs\\Python\\Python311\\Lib\\tkinter\\__init__.py\", line 1967, in __call__\n",
      "    return self.func(*args)\n",
      "           ^^^^^^^^^^^^^^^^\n",
      "  File \"C:\\Users\\kimhy\\AppData\\Local\\Temp\\ipykernel_26140\\2434714044.py\", line 9, in run_steps\n",
      "    status_label.config(text=step)\n",
      "  File \"C:\\Users\\kimhy\\AppData\\Local\\Programs\\Python\\Python311\\Lib\\tkinter\\__init__.py\", line 1721, in configure\n",
      "    return self._configure('configure', cnf, kw)\n",
      "           ^^^^^^^^^^^^^^^^^^^^^^^^^^^^^^^^^^^^^\n",
      "  File \"C:\\Users\\kimhy\\AppData\\Local\\Programs\\Python\\Python311\\Lib\\tkinter\\__init__.py\", line 1711, in _configure\n",
      "    self.tk.call(_flatten((self._w, cmd)) + self._options(cnf))\n",
      "_tkinter.TclError: invalid command name \".!label\"\n"
     ]
    }
   ],
   "source": [
    "#W4 Assuignment\n",
    "\n",
    "import tkinter as tk\n",
    "from tkinter import ttk\n",
    "import time\n",
    "\n",
    "def run_steps():\n",
    "    for step in Steps:\n",
    "        status_label.config(text=step)\n",
    "        done_label.config(text=f\"{step}/10\")\n",
    "        progressbar.step(1)\n",
    "        root.update()\n",
    "        time.sleep(0.5)\n",
    "\n",
    "\n",
    "root=tk.Tk()\n",
    "root.title(\"Step-Based Progress_Assign\")\n",
    "\n",
    "Steps = [\"1\",\"2\",\"3\",\"4\",\"5\",\"6\",\"7\",\"8\",\"9\",\"10\"]\n",
    "progressbar = ttk.Progressbar(root, orient=\"horizontal\", length=200, mode=\"determinate\")\n",
    "progressbar.grid(row=0, column=0, padx=5,pady=5)\n",
    "\n",
    "status_label = tk.Label(root, text=\"0\")\n",
    "status_label.grid(row=0, column=1, padx=5,pady=5)\n",
    "\n",
    "done_label= tk.Label(root, text=\"0/10\")\n",
    "done_label.grid(row=1, column=0, columnspan=2,padx=5,pady=5)\n",
    "\n",
    "button = tk.Button(root, text=\"Start\", comman=run_steps)\n",
    "button.grid(row=2, column=0, columnspan=2,padx=5,pady=5)\n",
    "\n",
    "progressbar[\"maximum\"]=len(Steps)\n",
    "root.mainloop()"
   ]
  }
 ],
 "metadata": {
  "kernelspec": {
   "display_name": "CodingClass2025",
   "language": "python",
   "name": "python3"
  },
  "language_info": {
   "codemirror_mode": {
    "name": "ipython",
    "version": 3
   },
   "file_extension": ".py",
   "mimetype": "text/x-python",
   "name": "python",
   "nbconvert_exporter": "python",
   "pygments_lexer": "ipython3",
   "version": "3.11.9"
  }
 },
 "nbformat": 4,
 "nbformat_minor": 2
}
